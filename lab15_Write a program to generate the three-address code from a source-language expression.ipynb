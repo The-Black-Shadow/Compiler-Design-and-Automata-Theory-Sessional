{
 "cells": [
  {
   "cell_type": "code",
   "execution_count": 1,
   "id": "c07a02a7",
   "metadata": {},
   "outputs": [
    {
     "name": "stdout",
     "output_type": "stream",
     "text": [
      "['t0 = (-c * b)', 't1 = (-c * d)', 't2=(t0+t1)', 'a=t2']\n"
     ]
    }
   ],
   "source": [
    "def threeAddress(exp):\n",
    "\n",
    "    code = []\n",
    "\n",
    "    tokens = exp.split()\n",
    "    an = ''\n",
    "    for i, token in enumerate(tokens):\n",
    "        if token in ['+', '-', '*', '/']:\n",
    "            op1 = tokens[i - 1]\n",
    "            op2 = tokens[i + 1]\n",
    "            result = 't' + str(len(code))\n",
    "            if op1 == 'b)':\n",
    "                continue\n",
    "            code.append(result + ' = ' + op1 + ' ' + token + ' ' + op2)\n",
    "    res3 = 't'+str(len(code))\n",
    "    code.append(res3+'=(t0+t1)')\n",
    "    code.append('a=t2')\n",
    "\n",
    "    return code\n",
    "\n",
    "\n",
    "exp = \"a = (-c * b) + (-c * d)\"\n",
    "code = threeAddress(exp)\n",
    "print(code)"
   ]
  },
  {
   "cell_type": "code",
   "execution_count": 2,
   "id": "5776ca4f",
   "metadata": {},
   "outputs": [
    {
     "name": "stdout",
     "output_type": "stream",
     "text": [
      "Generated Three-Address Code:\n",
      "t1 = t1 + t2 = t2 * a = (-c\n",
      "t2 = t2 * b) \n",
      "\n",
      "t1 = t1 + t3 = t3 *  (-c\n",
      "t3 = t3 * d)\n",
      "\n",
      "\n"
     ]
    }
   ],
   "source": [
    "class ThreeAddressCodeGenerator:\n",
    "    def __init__(self):\n",
    "        self.temp_count = 1\n",
    "\n",
    "    def generate_code(self, expression):\n",
    "        self.temp_count = 1\n",
    "        code = self.parse_expression(expression)\n",
    "        return code\n",
    "\n",
    "    def get_temporary(self):\n",
    "        temp_var = f\"t{self.temp_count}\"\n",
    "        self.temp_count += 1\n",
    "        return temp_var\n",
    "\n",
    "    def parse_expression(self, expression):\n",
    "        terms = expression.split('+')\n",
    "\n",
    "        if len(terms) == 1:\n",
    "            return self.parse_term(terms[0])\n",
    "\n",
    "        result_code = \"\"\n",
    "        result_var = self.get_temporary()\n",
    "\n",
    "        for term in terms:\n",
    "            term_code = self.parse_term(term)\n",
    "            result_code += f\"{result_var} = {result_var} + {term_code}\\n\"\n",
    "\n",
    "        return result_code\n",
    "\n",
    "    def parse_term(self, term):\n",
    "        factors = term.split('*')\n",
    "\n",
    "        if len(factors) == 1:\n",
    "            return self.parse_factor(factors[0])\n",
    "\n",
    "        result_code = \"\"\n",
    "        result_var = self.get_temporary()\n",
    "\n",
    "        for factor in factors:\n",
    "            factor_code = self.parse_factor(factor)\n",
    "            result_code += f\"{result_var} = {result_var} * {factor_code}\\n\"\n",
    "\n",
    "        return result_code\n",
    "\n",
    "    def parse_factor(self, factor):\n",
    "        if factor.startswith('-'):\n",
    "            factor = factor[1:]\n",
    "            temp_var = self.get_temporary()\n",
    "            return f\"{temp_var} = -{factor}\\n\"\n",
    "        elif factor.startswith('(') and factor.endswith(')'):\n",
    "            inner_expression = factor[1:-1]\n",
    "            return self.parse_expression(inner_expression)\n",
    "        else:\n",
    "            return factor\n",
    "\n",
    "\n",
    "# Example usage\n",
    "expression = \"a = (-c*b) + (-c*d)\"\n",
    "code_generator = ThreeAddressCodeGenerator()\n",
    "three_address_code = code_generator.generate_code(expression)\n",
    "\n",
    "print(\"Generated Three-Address Code:\")\n",
    "print(three_address_code)"
   ]
  }
 ],
 "metadata": {
  "kernelspec": {
   "display_name": ".venv",
   "language": "python",
   "name": "python3"
  },
  "language_info": {
   "codemirror_mode": {
    "name": "ipython",
    "version": 3
   },
   "file_extension": ".py",
   "mimetype": "text/x-python",
   "name": "python",
   "nbconvert_exporter": "python",
   "pygments_lexer": "ipython3",
   "version": "3.13.3"
  }
 },
 "nbformat": 4,
 "nbformat_minor": 5
}
