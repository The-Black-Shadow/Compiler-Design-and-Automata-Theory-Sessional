{
 "cells": [
  {
   "cell_type": "code",
   "execution_count": null,
   "id": "27f6f393",
   "metadata": {},
   "outputs": [
    {
     "name": "stdout",
     "output_type": "stream",
     "text": [
      "The lexeme 'vart' represents a 'IDENTIFIER' token.\n"
     ]
    }
   ],
   "source": [
    "def recognize_tokens(lexeme):\n",
    "    # List of keywords in the language\n",
    "    keywords = ['if', 'else', 'while', 'for', 'int', 'float', 'return', 'def', 'class', 'import', 'from']\n",
    "    \n",
    "    # List of operators in the language\n",
    "    operators = ['+', '-', '*', '/', '%']\n",
    "\n",
    "    # List of punctuation symbols in the language\n",
    "    punctuation = [';', ',', '(', ')']\n",
    "\n",
    "# Check if the lexeme is one of the operators\n",
    "    if lexeme in operators:\n",
    "        return 'OPERATOR'\n",
    "    \n",
    "    # Check if the lexeme is one of the punctuation symbols\n",
    "    elif lexeme in punctuation:\n",
    "        return 'PUNCTUATION'\n",
    "\n",
    "    # Check if the lexeme is one of the keywords\n",
    "    elif lexeme in keywords:\n",
    "        return 'KEYWORD'\n",
    "    \n",
    "    # Check if the lexeme is a valid identifier\n",
    "    elif lexeme.isidentifier():\n",
    "        return 'IDENTIFIER'\n",
    "\n",
    "    # Check if the lexeme is a digit\n",
    "    elif lexeme.isdigit():\n",
    "        return 'INTEGER'\n",
    "\n",
    "    # Check if the lexeme is a valid float (contains a dot and the remaining characters are digits)\n",
    "    elif '.' in lexeme and lexeme.replace('.', '').isdigit():\n",
    "        return 'FLOAT'\n",
    "\n",
    "    \n",
    "\n",
    "    \n",
    "\n",
    "    # If the lexeme doesn't match any recognized pattern, classify it as 'UNKNOWN'\n",
    "    else:\n",
    "        return 'UNKNOWN'\n",
    "\n",
    "if __name__ == \"__main__\":\n",
    "    user_input = input(\"Enter one lexeme: \")\n",
    "\n",
    "    # Recognize the token type for the given lexeme\n",
    "    token_type = recognize_tokens(user_input)\n",
    "\n",
    "    # Display the result\n",
    "    print(f\"The lexeme '{user_input}' represents a '{token_type}' token.\")\n",
    "\n",
    "\n",
    "# Test cases : int,var,if,else,while,3.14,20"
   ]
  }
 ],
 "metadata": {
  "kernelspec": {
   "display_name": ".venv",
   "language": "python",
   "name": "python3"
  },
  "language_info": {
   "codemirror_mode": {
    "name": "ipython",
    "version": 3
   },
   "file_extension": ".py",
   "mimetype": "text/x-python",
   "name": "python",
   "nbconvert_exporter": "python",
   "pygments_lexer": "ipython3",
   "version": "3.13.3"
  }
 },
 "nbformat": 4,
 "nbformat_minor": 5
}
